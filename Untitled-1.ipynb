{
 "cells": [
  {
   "cell_type": "code",
   "execution_count": 1,
   "metadata": {},
   "outputs": [],
   "source": [
    "import cv2\n",
    "import numpy as np"
   ]
  },
  {
   "cell_type": "code",
   "execution_count": 2,
   "metadata": {},
   "outputs": [],
   "source": [
    "dice_imgs = []\n",
    "for i in range(1,7):\n",
    "    dimg = cv2.imread('{}.png'.format(i), 0 )\n",
    "    dimg = cv2.resize( dimg, (10,10 ))\n",
    "    dice_imgs.append( dimg )\n",
    "\n",
    "dh,dw = dice_imgs[0].shape"
   ]
  },
  {
   "cell_type": "code",
   "execution_count": 5,
   "metadata": {},
   "outputs": [],
   "source": [
    "img = cv2.imread('img.jpg', 0 )\n",
    "img = cv2.resize( img, None, fx=0.25 , fy=0.25 )\n",
    "h,w = img.shape"
   ]
  },
  {
   "cell_type": "code",
   "execution_count": 6,
   "metadata": {},
   "outputs": [],
   "source": [
    "pixels = img.reshape((-1,1))\n",
    "pixels = np.float32(pixels)"
   ]
  },
  {
   "cell_type": "code",
   "execution_count": 9,
   "metadata": {},
   "outputs": [],
   "source": [
    "K = 6\n",
    "criteria = (cv2.TERM_CRITERIA_EPS + cv2.TERM_CRITERIA_MAX_ITER, 10, 1.0)\n",
    "components,label,center=cv2.kmeans( pixels ,K,None,criteria,20,cv2.KMEANS_RANDOM_CENTERS)\n",
    "center = np.uint8(center)"
   ]
  },
  {
   "cell_type": "code",
   "execution_count": 15,
   "metadata": {},
   "outputs": [
    {
     "name": "stdout",
     "output_type": "stream",
     "text": [
      "classes are: [0 1 2 3 4 5] \n",
      "\n",
      "x befor sort:\n",
      " [[  0  80]\n",
      " [  1 197]\n",
      " [  2  29]\n",
      " [  3 130]\n",
      " [  4 230]\n",
      " [  5 166]] \n",
      "\n",
      "x after sort:\n",
      " [[  2  29]\n",
      " [  0  80]\n",
      " [  3 130]\n",
      " [  5 166]\n",
      " [  1 197]\n",
      " [  4 230]] \n",
      "\n"
     ]
    }
   ],
   "source": [
    "classes = np.arange(0,K)\n",
    "print('classes are:', classes, '\\n')\n",
    "center=center.reshape(-1)\n",
    "x = list(zip(classes, center ))\n",
    "print('x befor sort:\\n', np.array(x), '\\n')\n",
    "x.sort( key = lambda x:x[1])\n",
    "print('x after sort:\\n', np.array(x), '\\n')"
   ]
  },
  {
   "cell_type": "code",
   "execution_count": null,
   "metadata": {},
   "outputs": [],
   "source": [
    "new_label = np.zeros_like( label ) \n",
    "for i in range(len(x)):\n",
    "    old_class = x[i][0]\n",
    "    new_label[ label == old_class ] = i"
   ]
  },
  {
   "cell_type": "code",
   "execution_count": null,
   "metadata": {},
   "outputs": [],
   "source": [
    "label_img = new_label.reshape(img.shape)"
   ]
  },
  {
   "cell_type": "code",
   "execution_count": null,
   "metadata": {},
   "outputs": [],
   "source": [
    "result_img = np.zeros( (h*dh , w*dw ), dtype = np.uint8)\n",
    "print(result_img.shape)"
   ]
  },
  {
   "cell_type": "code",
   "execution_count": null,
   "metadata": {},
   "outputs": [],
   "source": [
    "for i in range(h):\n",
    "    for j in range(w):\n",
    "        class_color = label_img[i,j]\n",
    "        result_img[ i*dh : (i+1)*dh , j*dw : (j+1) * dw ] = dice_imgs[class_color] "
   ]
  },
  {
   "cell_type": "code",
   "execution_count": null,
   "metadata": {},
   "outputs": [],
   "source": [
    "cv2.imwrite('res.png', result_img )\n",
    "cv2.imshow('result_img', cv2.resize( result_img, None, fx=0.47, fy=0.47) )\n",
    "cv2.waitKey(0)"
   ]
  }
 ],
 "metadata": {
  "interpreter": {
   "hash": "73f97781ab93b11fb478857e5313e24b15d748ee2efee072b5700406aec27aac"
  },
  "kernelspec": {
   "display_name": "Python 3.9.13 64-bit",
   "language": "python",
   "name": "python3"
  },
  "language_info": {
   "codemirror_mode": {
    "name": "ipython",
    "version": 3
   },
   "file_extension": ".py",
   "mimetype": "text/x-python",
   "name": "python",
   "nbconvert_exporter": "python",
   "pygments_lexer": "ipython3",
   "version": "3.9.13"
  },
  "orig_nbformat": 4
 },
 "nbformat": 4,
 "nbformat_minor": 2
}
